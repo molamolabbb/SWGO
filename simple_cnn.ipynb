{
 "cells": [
  {
   "cell_type": "code",
   "execution_count": 1,
   "metadata": {},
   "outputs": [],
   "source": [
    "import numpy as np\n",
    "import matplotlib.pyplot as plt\n",
    "import time\n",
    "import sys\n",
    "import os \n",
    "os.environ[\"CUDA_VISIBLE_DEVICES\"]=\"0\"\n",
    "\n",
    "import torch\n",
    "import torchvision\n",
    "from torchvision import models\n",
    "import torchvision.transforms as transforms\n",
    "from torch.autograd import Variable\n",
    "import torch.nn as nn \n",
    "import torch.nn.functional as F\n",
    "import torch.optim as optim\n",
    "from torch.utils.tensorboard import SummaryWriter\n",
    "\n",
    "\n",
    "from sklearn import svm, datasets\n",
    "from sklearn.metrics import roc_curve, auc\n",
    "from sklearn.model_selection import train_test_split\n",
    "from sklearn.preprocessing import label_binarize\n",
    "from sklearn.multiclass import OneVsRestClassifier\n",
    "from scipy import interp\n",
    "from sklearn.metrics import roc_auc_score"
   ]
  },
  {
   "cell_type": "code",
   "execution_count": 2,
   "metadata": {},
   "outputs": [],
   "source": [
    "gbin1 = np.load('/home/jua/corsika/run/energy_var/npz/0501/bin/gamma_energy_bin1_all.npz')\n",
    "pbin1 = np.load('/home/jua/corsika/run/energy_var/npz/0501/bin/proton_energy_bin1_all.npz')\n",
    "\n",
    "gbin2 = np.load('/home/jua/corsika/run/energy_var/npz/0501/bin/gamma_energy_bin2_all.npz')\n",
    "pbin2 = np.load('/home/jua/corsika/run/energy_var/npz/0501/bin/proton_energy_bin2_all.npz')\n",
    "\n",
    "gbin3 = np.load('/home/jua/corsika/run/energy_var/npz/0501/bin/gamma_energy_bin3_all.npz')\n",
    "pbin3 = np.load('/home/jua/corsika/run/energy_var/npz/0501/bin/proton_energy_bin3_all.npz')\n",
    "\n",
    "gbin4 = np.load('/home/jua/corsika/run/energy_var/npz/0501/bin/gamma_energy_bin4_all.npz')\n",
    "pbin4 = np.load('/home/jua/corsika/run/energy_var/npz/0501/bin/proton_energy_bin4_all.npz')\n",
    "\n",
    "gbin5 = np.load('/home/jua/corsika/run/energy_var/npz/0501/bin/gamma_energy_bin5_all.npz')\n",
    "pbin5 = np.load('/home/jua/corsika/run/energy_var/npz/0501/bin/proton_energy_bin5_all.npz')\n",
    "\n",
    "gbin6 = np.load('/home/jua/corsika/run/energy_var/npz/0501/bin/gamma_energy_bin6_all.npz')\n",
    "pbin6 = np.load('/home/jua/corsika/run/energy_var/npz/0501/bin/proton_energy_bin6_all.npz')"
   ]
  },
  {
   "cell_type": "code",
   "execution_count": 3,
   "metadata": {},
   "outputs": [],
   "source": [
    "Ebins = 5\n",
    "gim = gbin5['image'][:]\n",
    "pim = pbin5['image'][:]\n",
    "#gim = torch.tensor(gim).float() \n",
    "#pim = torch.tensor(gim).float() \n",
    "gim_label = torch.zeros([len(gim)])\n",
    "pim_label = torch.ones([len(pim)]) \n",
    "classes = {0:'gamma',1:'proton'}"
   ]
  },
  {
   "cell_type": "code",
   "execution_count": 4,
   "metadata": {},
   "outputs": [],
   "source": [
    "train_images = np.vstack((gim[:int(len(gim)*0.5)],pim[:int(len(pim)*0.5)]))\n",
    "test_images  = np.vstack((gim[int(len(gim)*0.5):int(len(gim)*0.75)],pim[int(len(pim)*0.5):int(len(pim)*0.75)]))\n",
    "val_images  = np.vstack((gim[int(len(gim)*0.75):],pim[int(len(pim)*0.75):]))\n",
    "train_labels = np.hstack((gim_label[:int(len(gim)*0.5)],pim_label[:int(len(pim)*0.5)]))\n",
    "test_labels  = np.hstack((gim_label[int(len(gim)*0.5):int(len(gim)*0.75)],pim_label[int(len(pim)*0.5):int(len(pim)*0.75)]))\n",
    "val_labels  = np.hstack((gim_label[int(len(gim)*0.75):],pim_label[int(len(pim)*0.75):]))"
   ]
  },
  {
   "cell_type": "code",
   "execution_count": 5,
   "metadata": {},
   "outputs": [],
   "source": [
    "train_images = torch.tensor(train_images).float()\n",
    "train_labels = torch.tensor(train_labels).float()\n",
    "test_images  = torch.tensor(test_images).float()\n",
    "test_labels  = torch.tensor(test_labels).float()\n",
    "val_images  = torch.tensor(val_images).float()\n",
    "val_labels  = torch.tensor(val_labels).float()"
   ]
  },
  {
   "cell_type": "code",
   "execution_count": 6,
   "metadata": {},
   "outputs": [],
   "source": [
    "train_sets = ([(train_images[i],train_labels[i])for i in range(len(train_labels))])\n",
    "test_sets = ([(test_images[i],test_labels[i])for i in range(len(test_labels))])\n",
    "val_sets = ([(val_images[i],val_labels[i])for i in range(len(val_labels))])"
   ]
  },
  {
   "cell_type": "code",
   "execution_count": 7,
   "metadata": {},
   "outputs": [],
   "source": [
    "trainloader = torch.utils.data.DataLoader(train_sets, batch_size=4, shuffle=True, num_workers=2)\n",
    "testloader = torch.utils.data.DataLoader(test_sets, batch_size=4, shuffle=True, num_workers=2)\n",
    "valloader = torch.utils.data.DataLoader(val_sets, batch_size=4, shuffle=True, num_workers=2)"
   ]
  },
  {
   "cell_type": "code",
   "execution_count": 8,
   "metadata": {},
   "outputs": [
    {
     "name": "stdout",
     "output_type": "stream",
     "text": [
      "# of gamma images : 1288, # of proton images : 570\n",
      "# of Train : 929, # of Test : 464, # of Validation : 465\n"
     ]
    }
   ],
   "source": [
    "print('# of gamma images : {}, # of proton images : {}'.format(len(gim),len(pim)))\n",
    "print('# of Train : {}, # of Test : {}, # of Validation : {}'.format(len(train_sets),len(test_sets),len(val_sets)))"
   ]
  },
  {
   "cell_type": "code",
   "execution_count": 9,
   "metadata": {},
   "outputs": [],
   "source": [
    "dataloader = {'train':trainloader, 'valid':valloader}"
   ]
  },
  {
   "cell_type": "code",
   "execution_count": 10,
   "metadata": {},
   "outputs": [],
   "source": [
    "class Net(nn.Module):\n",
    "    def __init__(self):\n",
    "        super(Net, self).__init__()\n",
    "        self.conv1 = nn.Conv2d(4, 64, kernel_size=7)\n",
    "        self.batch1 = nn.BatchNorm2d(64, eps=1e-05, momentum=0.1, affine=True, track_running_stats=True)\n",
    "        self.conv2 = nn.Conv2d(64, 64, kernel_size=5)    \n",
    "        #self.batch2 = nn.BatchNorm2d(64, eps=1e-05, momentum=0.1, affine=True, track_running_stats=True)\n",
    "        self.conv2_drop = nn.Dropout2d()\n",
    "        self.pool = nn.MaxPool2d(2,2)\n",
    "        self.fc1 = nn.Linear(64*6*6, 500)\n",
    "        self.fc2 = nn.Linear(500, 128)\n",
    "        self.fc3 = nn.Linear(128, 2)\n",
    "    \n",
    "    def forward(self, x):\n",
    "        x = self.pool(F.relu(self.conv1(x)))\n",
    "        x = self.batch1(x)\n",
    "        x = self.pool(F.relu(self.conv2(x)))\n",
    "        #x = self.batch2(x)\n",
    "        x = x.view(-1, 64*6*6)\n",
    "        x = F.relu(self.fc1(x))\n",
    "        x = F.dropout(x,training=self.training)\n",
    "        x = F.relu(self.fc2(x))\n",
    "        return self.fc3(x)"
   ]
  },
  {
   "cell_type": "code",
   "execution_count": 11,
   "metadata": {},
   "outputs": [],
   "source": [
    "net = Net()\n",
    "net = net.cuda()"
   ]
  },
  {
   "cell_type": "code",
   "execution_count": 12,
   "metadata": {},
   "outputs": [],
   "source": [
    "learning_rate = 0.001\n",
    "criterion = nn.CrossEntropyLoss()\n",
    "optimizer = optim.SGD(net.parameters(), lr = 0.001, momentum=0.9)\n",
    "exp_lr_scheduler = optim.lr_scheduler.StepLR(optimizer, step_size=7, gamma=0.1)"
   ]
  },
  {
   "cell_type": "code",
   "execution_count": 13,
   "metadata": {},
   "outputs": [],
   "source": [
    "def train_model(model, dataloader, criterion, optimizer, scheduler, Ebins, num_epochs=1):\n",
    "    since = time.time()\n",
    "    best_model_wts = model.state_dict()\n",
    "    best_acc = 0.0\n",
    "    losses = {'train':[],'valid':[]}\n",
    "    accuracy = {'train':[],'valid':[]}\n",
    "    for epoch in range(num_epochs):\n",
    "        print(\"Epoch {}/{}\".format(epoch, num_epochs-1))\n",
    "        print('-'*10)\n",
    "        for phase in ['train','valid']:\n",
    "            if phase=='train':\n",
    "                scheduler.step()\n",
    "                model.train(True)\n",
    "            else:\n",
    "                model.eval()\n",
    "                \n",
    "            running_loss = 0.0\n",
    "            running_corrects= 0\n",
    "            ep_running_loss = 0.0\n",
    "            ep_running_corrects = 0\n",
    "            \n",
    "            for i, data in enumerate(dataloader[phase]):\n",
    "                inputs, labels = data\n",
    "                inputs = Variable(inputs.cuda())\n",
    "                labels = Variable(labels.cuda())\n",
    "                #inputs = Variable(inputs)\n",
    "                #labels = Variable(labels)\n",
    "                if phase=='train':\n",
    "                    optimizer.zero_grad()\n",
    "                outputs = model(inputs)\n",
    "                _, preds = torch.max(outputs.data, 1)\n",
    "                loss = criterion(outputs, labels.long())\n",
    "                if phase=='train':\n",
    "                    loss.backward()\n",
    "                    optimizer.step()\n",
    "                running_loss += loss.data\n",
    "                ep_running_loss += loss.data\n",
    "                running_corrects += torch.sum(preds==labels.long())\n",
    "                ep_running_corrects += torch.sum(preds==labels.long())\n",
    "                if i%100==99:\n",
    "                    writer.add_scalar('{} loss'.format(phase),\n",
    "                                     running_loss/100,\n",
    "                                     epoch*len(dataloader[phase])+i)\n",
    "                    writer.add_scalar('{} Accuracy'.format(phase),\n",
    "                                     float(running_corrects)/(100.0*4.0),\n",
    "                                     epoch*len(dataloader[phase])+i)\n",
    "                    writer.add_figure('predictions vs actuals, {}'.format(phase),\n",
    "                                     plot_classes_preds(model, inputs, labels),\n",
    "                                     global_step=epoch*len(dataloader[phase])+i)\n",
    "                    running_loss = 0.0\n",
    "                    running_corrects = 0\n",
    "\n",
    "            writer.close()\n",
    "            epoch_loss = ep_running_loss/(len(dataloader[phase])*4)\n",
    "            epoch_acc = float(ep_running_corrects)/(len(dataloader[phase])*4)\n",
    "            losses[phase].append(epoch_loss)\n",
    "            accuracy[phase].append(epoch_acc)\n",
    "            print('{} Loss: {:.4f}, Acc : {:.4f}'.format( phase, epoch_loss, epoch_acc))    \n",
    "            if phase=='valid' and epoch_acc>best_acc:\n",
    "                best_acc = epoch_acc\n",
    "                best_model_wts = model.state_dict()\n",
    "    print()\n",
    "    time_elapsed = time.time() - since\n",
    "    print(\"Training complete in {:.0f}s\".format(time_elapsed//60, time_elapsed%60))\n",
    "    print(\"Best Acc: {:4f}\".format(best_acc))\n",
    "    model.load_state_dict(best_model_wts)\n",
    "    return model,losses,accuracy    "
   ]
  },
  {
   "cell_type": "code",
   "execution_count": 14,
   "metadata": {},
   "outputs": [],
   "source": [
    "def plottingLossAcc(losses,accuracy,datatype,Eb):\n",
    "  # plotting losses, and accuracy\n",
    "    plt.plot(range(1,len(losses)+1),losses, 'r',label='loss')\n",
    "    plt.title('{} Losses B={}'.format(datatype.capitalize(), Eb))\n",
    "    plt.xlabel('epoch')\n",
    "    plt.ylabel('losses')\n",
    "    plt.legend()\n",
    "    plt.savefig(\"plots/300_50000_m2.7/4filter/{}_loss_B{}.png\".format(datatype, Eb))\n",
    "    plt.show()\n",
    "\n",
    "    plt.plot(range(1,len(accuracy)+1), accuracy, 'r', label='accuracy')\n",
    "    plt.title('{} Accuracy B={}'.format(datatype.capitalize(),Eb))\n",
    "    plt.xlabel('epoch')\n",
    "    plt.ylabel('accuracy')\n",
    "    plt.legend()\n",
    "    plt.savefig(\"plots/300_50000_m2.7/4filter/{}_accuracy_B{}.png\".format(datatype, Eb))\n",
    "    plt.show()"
   ]
  },
  {
   "cell_type": "code",
   "execution_count": 15,
   "metadata": {},
   "outputs": [],
   "source": [
    "def test(testloader):\n",
    "    correct = 0\n",
    "    total = 0\n",
    "    y_score = np.array([])\n",
    "    y = np.array([])\n",
    "    test_losses = []\n",
    "    for data in testloader:\n",
    "        images, labels = data\n",
    "        labels = labels.cuda()\n",
    "        outputs = net(Variable(images.cuda()))\n",
    "        #outputs = net(Variable(images))\n",
    "        _, predicted = torch.max(outputs.data, 1)\n",
    "        loss = criterion(outputs, labels.long().cuda())\n",
    "        #loss = criterion(outputs, labels.long())\n",
    "        y_score = np.append(y_score,outputs.data.cpu().detach().numpy())\n",
    "        y = np.append(y,labels.cpu().numpy())\n",
    "        test_losses.append(loss.data/16.0)\n",
    "        total += labels.size(0)\n",
    "        correct += (predicted == labels.long().cuda()).sum()\n",
    "        #correct += (predicted == labels.long()).sum()\n",
    "    return y, y_score, correct, total,  test_losses"
   ]
  },
  {
   "cell_type": "code",
   "execution_count": 16,
   "metadata": {},
   "outputs": [],
   "source": [
    "def roc(y,y_score,correct,total,Eb):\n",
    "    ny = []\n",
    "    for i in y:\n",
    "        if i == 0: ny.append([1,0])\n",
    "        else : ny.append([0,1])\n",
    "\n",
    "    fpr,tpr, _  = roc_curve(np.array(ny).ravel(),y_score.ravel())\n",
    "    roc_auc = auc(fpr,tpr)\n",
    "    fig, ax = plt.subplots()\n",
    "    lw = 2\n",
    "    ax.plot(fpr, tpr, color='darkorange',lw=lw, label='ROC curve (area = %0.2f)' % roc_auc)\n",
    "    ax.plot([0, 1], [0, 1], color='navy', lw=lw, linestyle='--')\n",
    "    ax.set(xlim=[0.0, 1.0], ylim=[0.0,1.0],title='ROC curve B={}'.format(Eb))\n",
    "    ax.set_xlabel('False Positive Rate')\n",
    "    ax.set_ylabel('True Positive Rate')\n",
    "    ax.legend(loc=\"lower right\")\n",
    "    fig.savefig(\"plots/300_50000_m2.7/4filter/roc_B{}.png\".format(Eb))\n",
    "    plt.show()\n",
    "    print('Accuracy of the network on the {} test images: {} %'.format(len(testloader),100 * correct / total))\n"
   ]
  },
  {
   "cell_type": "code",
   "execution_count": 17,
   "metadata": {},
   "outputs": [],
   "source": [
    "def matplotlib_imshow(img, one_channel=False):\n",
    "    if one_channel:\n",
    "        img = img.mean(dim=0)\n",
    "    img = img / 2 + 0.5     # unnormalize\n",
    "    npimg = img.cpu().numpy()\n",
    "    if one_channel:\n",
    "        plt.imshow(npimg, cmap=\"Greys\")\n",
    "    else:\n",
    "        plt.imshow(np.transpose(npimg, (1, 2, 0)))"
   ]
  },
  {
   "cell_type": "code",
   "execution_count": 18,
   "metadata": {},
   "outputs": [],
   "source": [
    "def images_to_probs(net, images):\n",
    "    output = net(images)\n",
    "    _, preds_tensor= torch.max(output,1)\n",
    "    preds = np.squeeze(preds_tensor.cpu().numpy())\n",
    "    return preds, [F.softmax(el, dim=0)[i].item() for i, el in zip(preds, output)]"
   ]
  },
  {
   "cell_type": "code",
   "execution_count": 19,
   "metadata": {},
   "outputs": [],
   "source": [
    "def plot_classes_preds(net, images, labels):\n",
    "    preds, probs = images_to_probs(net, images)\n",
    "    fig = plt.figure(figsize=(12, 48))\n",
    "    for idx in np.arange(4):\n",
    "        ax = fig.add_subplot(1,4,idx+1, xticks=[], yticks=[])\n",
    "        matplotlib_imshow(images[idx], one_channel=True)\n",
    "        ax.set_title(\"{0}, {1:.1f}%\\n(label: {2})\".format(\n",
    "        classes[preds[idx]],\n",
    "               probs[idx]*100.0,\n",
    "               classes[int(labels[idx])]),\n",
    "                    color=('green' if preds[idx]==labels[idx].long() else \"red\"))\n",
    "    return fig"
   ]
  },
  {
   "cell_type": "code",
   "execution_count": 20,
   "metadata": {},
   "outputs": [
    {
     "data": {
      "text/plain": [
       "\"\\nwriter = SummaryWriter('runs/bin1')\\ndataiter = iter(trainloader)\\nimages, labels = dataiter.next()\\nimg_grid = torchvision.utils.make_grid(images[0])\\nmatplotlib_imshow(img_grid)\\nwriter.add_image('test_images', img_grid)\\n\\nwriter.add_graph(net, images)\\n\\nwriter.close()\\n\""
      ]
     },
     "execution_count": 20,
     "metadata": {},
     "output_type": "execute_result"
    }
   ],
   "source": [
    "'''\n",
    "writer = SummaryWriter('runs/bin1')\n",
    "dataiter = iter(trainloader)\n",
    "images, labels = dataiter.next()\n",
    "img_grid = torchvision.utils.make_grid(images[0])\n",
    "matplotlib_imshow(img_grid)\n",
    "writer.add_image('test_images', img_grid)\n",
    "\n",
    "writer.add_graph(net, images)\n",
    "\n",
    "writer.close()\n",
    "'''"
   ]
  },
  {
   "cell_type": "code",
   "execution_count": 21,
   "metadata": {
    "scrolled": false
   },
   "outputs": [
    {
     "name": "stdout",
     "output_type": "stream",
     "text": [
      "Epoch 0/9\n",
      "----------\n"
     ]
    },
    {
     "name": "stderr",
     "output_type": "stream",
     "text": [
      "/usr/local/lib64/python3.6/site-packages/torch/optim/lr_scheduler.py:100: UserWarning: Detected call of `lr_scheduler.step()` before `optimizer.step()`. In PyTorch 1.1.0 and later, you should call them in the opposite order: `optimizer.step()` before `lr_scheduler.step()`.  Failure to do this will result in PyTorch skipping the first value of the learning rate schedule.See more details at https://pytorch.org/docs/stable/optim.html#how-to-adjust-learning-rate\n",
      "  \"https://pytorch.org/docs/stable/optim.html#how-to-adjust-learning-rate\", UserWarning)\n"
     ]
    },
    {
     "name": "stdout",
     "output_type": "stream",
     "text": [
      "train Loss: 0.1415, Acc : 0.7135\n",
      "valid Loss: 0.1584, Acc : 0.6859\n",
      "Epoch 1/9\n",
      "----------\n",
      "train Loss: 0.1121, Acc : 0.7843\n",
      "valid Loss: 0.1609, Acc : 0.6859\n",
      "Epoch 2/9\n",
      "----------\n",
      "train Loss: 0.0962, Acc : 0.8197\n",
      "valid Loss: 0.1700, Acc : 0.6923\n",
      "Epoch 3/9\n",
      "----------\n",
      "train Loss: 0.0900, Acc : 0.8455\n",
      "valid Loss: 0.1749, Acc : 0.3056\n",
      "Epoch 4/9\n",
      "----------\n",
      "train Loss: 0.0793, Acc : 0.8734\n",
      "valid Loss: 0.1765, Acc : 0.3056\n",
      "Epoch 5/9\n",
      "----------\n",
      "train Loss: 0.0686, Acc : 0.8927\n",
      "valid Loss: 0.1421, Acc : 0.8526\n",
      "Epoch 6/9\n",
      "----------\n",
      "train Loss: 0.0485, Acc : 0.9249\n",
      "valid Loss: 0.1821, Acc : 0.3056\n",
      "Epoch 7/9\n",
      "----------\n",
      "train Loss: 0.0478, Acc : 0.9335\n",
      "valid Loss: 0.1808, Acc : 0.3056\n",
      "Epoch 8/9\n",
      "----------\n",
      "train Loss: 0.0443, Acc : 0.9324\n",
      "valid Loss: 0.1815, Acc : 0.3056\n",
      "Epoch 9/9\n",
      "----------\n",
      "train Loss: 0.0428, Acc : 0.9431\n",
      "valid Loss: 0.1799, Acc : 0.3056\n",
      "\n",
      "Training complete in 1s\n",
      "Best Acc: 0.852564\n"
     ]
    }
   ],
   "source": [
    "from datetime import datetime\n",
    "now = datetime.now()\n",
    "logdir = \"runs/bin{}/\".format(Ebins) + now.strftime(\"%Y%m%d-%H%M%S\") + \"/\"\n",
    "writer = SummaryWriter(logdir)\n",
    "net,losses,accuracy = train_model(net, dataloader, criterion, optimizer, exp_lr_scheduler, Ebins,10)"
   ]
  },
  {
   "cell_type": "code",
   "execution_count": 22,
   "metadata": {},
   "outputs": [
    {
     "data": {
      "image/png": "[encoded data removed]",
      "text/plain": [
       "<Figure size 432x288 with 1 Axes>"
      ]
     },
     "metadata": {
      "needs_background": "light"
     },
     "output_type": "display_data"
    },
    {
     "data": {
      "image/png": "[encoded data removed]",
      "text/plain": [
       "<Figure size 432x288 with 1 Axes>"
      ]
     },
     "metadata": {
      "needs_background": "light"
     },
     "output_type": "display_data"
    },
    {
     "data": {
      "image/png": "[encoded data removed]",
      "text/plain": [
       "<Figure size 432x288 with 1 Axes>"
      ]
     },
     "metadata": {
      "needs_background": "light"
     },
     "output_type": "display_data"
    },
    {
     "data": {
      "image/png": "[encoded data removed]",
      "text/plain": [
       "<Figure size 432x288 with 1 Axes>"
      ]
     },
     "metadata": {
      "needs_background": "light"
     },
     "output_type": "display_data"
    },
    {
     "data": {
      "image/png": "[encoded data removed]",
      "text/plain": [
       "<Figure size 432x288 with 1 Axes>"
      ]
     },
     "metadata": {
      "needs_background": "light"
     },
     "output_type": "display_data"
    },
    {
     "name": "stdout",
     "output_type": "stream",
     "text": [
      "Accuracy of the network on the 116 test images: 30 %\n"
     ]
    }
   ],
   "source": [
    "plottingLossAcc(losses['train'],accuracy['train'],datatype='train', Eb=Ebins)\n",
    "plottingLossAcc(losses['valid'],accuracy['valid'],datatype='valid', Eb=Ebins)\n",
    "y,y_score,correct,total,test_losses = test(testloader)\n",
    "\n",
    "roc(y,y_score,correct,total,Ebins)"
   ]
  },
  {
   "cell_type": "code",
   "execution_count": null,
   "metadata": {},
   "outputs": [],
   "source": []
  }
 ],
 "metadata": {
  "kernelspec": {
   "display_name": "Python 3",
   "language": "python",
   "name": "python3"
  },
  "language_info": {
   "codemirror_mode": {
    "name": "ipython",
    "version": 3
   },
   "file_extension": ".py",
   "mimetype": "text/x-python",
   "name": "python",
   "nbconvert_exporter": "python",
   "pygments_lexer": "ipython3",
   "version": "3.6.8"
  }
 },
 "nbformat": 4,
 "nbformat_minor": 2
}
