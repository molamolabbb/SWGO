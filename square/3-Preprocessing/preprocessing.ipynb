{
 "cells": [
  {
   "cell_type": "code",
   "execution_count": 1,
   "metadata": {},
   "outputs": [],
   "source": [
    "import numpy as np\n",
    "import torch\n",
    "import os\n",
    "import gc\n",
    "from sklearn import preprocessing"
   ]
  },
  {
   "cell_type": "code",
   "execution_count": 2,
   "metadata": {},
   "outputs": [],
   "source": [
    "path = '/home/jua/corsika/run/energy_var/npz/square/all/'\n",
    "filelist = os.listdir(path)\n",
    "gbins = {}\n",
    "pbins = {}\n",
    "for file in filelist:\n",
    "    n = int(file.split('_')[2][-1])\n",
    "    if file.split(\"_\")[0]=='gamma':\n",
    "        gbins[n]=np.load(path+file)\n",
    "    if file.split(\"_\")[0]=='proton':\n",
    "        pbins[n]=np.load(path+file)"
   ]
  },
  {
   "cell_type": "code",
   "execution_count": 3,
   "metadata": {},
   "outputs": [],
   "source": [
    "def norm(Ebin, g, p, normtype):\n",
    "    g_label = torch.zeros([len(g)])\n",
    "    p_label = torch.ones([len(p)])\n",
    "    if normtype == \"minmax\":\n",
    "        min_max_scaler = preprocessing.MinMaxScaler()\n",
    "        for j in range(len(g)):\n",
    "            for i in range(4):\n",
    "                g[j][i] = min_max_scaler.fit_transform(g[j][i])\n",
    "        for j in range(len(p)):\n",
    "            for i in range(4):\n",
    "                p[j][i] = min_max_scaler.fit_transform(p[j][i])\n",
    "    elif normtype == \"std\":\n",
    "        for j in range(len(g)):\n",
    "            for i in range(4):\n",
    "                scaler = preprocessing.StandardScaler().fit(g[j][i])\n",
    "                g[j][i] = scaler.transform(g[j][i])\n",
    "        for j in range(len(p)):\n",
    "            for i in range(4):\n",
    "                scaler = preprocessing.StandardScaler().fit(p[j][i])\n",
    "                p[j][i] = scaler.transform(p[j][i])\n",
    "    images = np.vstack((g,p))\n",
    "    labels = np.hstack((g_label, p_label))\n",
    "    np.savez_compressed(\"/home/jua/SWGO/square/data/{}/bin/bin{}.npz\".format(normtype, Ebin),image=images,label=labels)\n",
    "    return g, p"
   ]
  },
  {
   "cell_type": "code",
   "execution_count": 4,
   "metadata": {},
   "outputs": [],
   "source": [
    "def flip(Ebin, g, p, normtype):\n",
    "    g_label = torch.zeros([len(g)])\n",
    "    p_label = torch.ones([len(p)])\n",
    "    \n",
    "    g_ud = torch.zeros(len(g),4,51,51)\n",
    "    p_ud = torch.zeros(len(p),4,51,51)\n",
    "    \n",
    "    g_rl = torch.zeros(len(g),4,51,51)\n",
    "    p_rl = torch.zeros(len(p),4,51,51)\n",
    "    \n",
    "    g = torch.tensor(g).float()\n",
    "    p = torch.tensor(p).float()\n",
    "    \n",
    "    for j in range(len(g)):\n",
    "        for i in range(4):\n",
    "            # Upside Down \n",
    "            g_ud[j][i] = torch.flip(g[j][i],[0])\n",
    "            # Left and right reverse\n",
    "            g_rl[j][i] = torch.flip(g[j][i],[1])\n",
    "    \n",
    "    for j in range(len(p)):\n",
    "        for i in range(4):\n",
    "            # Upside Down \n",
    "            p_ud[j][i] = torch.flip(p[j][i],[0])\n",
    "            # Left and right reverse\n",
    "            p_rl[j][i] = torch.flip(p[j][i],[1])\n",
    "    images_ud = np.vstack((g_ud,p_ud))\n",
    "    images_rl = np.vstack((g_rl,p_rl))\n",
    "    labels = np.hstack((g_label, p_label))\n",
    "    np.savez_compressed(\"/home/jua/SWGO/square/data/{}/augmentation/flip/updown_bin{}.npz\".format(normtype, Ebin)\n",
    "                        ,image=images_ud,label=labels)\n",
    "    np.savez_compressed(\"/home/jua/SWGO/square/data/{}/augmentation/flip/rightleft_bin{}.npz\".format(normtype, Ebin)\n",
    "                        ,image=images_rl,label=labels)\n",
    "    return len(g), len(p)"
   ]
  },
  {
   "cell_type": "code",
   "execution_count": 5,
   "metadata": {},
   "outputs": [],
   "source": [
    "# anti clockwise\n",
    "def rotate(Ebin, g, p, normtype):\n",
    "    g_label = torch.zeros([len(g)])\n",
    "    p_label = torch.ones([len(p)])\n",
    "    \n",
    "    g_90 = torch.zeros(len(g),4,51,51)\n",
    "    p_90 = torch.zeros(len(p),4,51,51)\n",
    "    \n",
    "    g_180 = torch.zeros(len(g),4,51,51)\n",
    "    p_180 = torch.zeros(len(p),4,51,51)\n",
    "    \n",
    "    g_270 = torch.zeros(len(g),4,51,51)\n",
    "    p_270 = torch.zeros(len(p),4,51,51)\n",
    "    \n",
    "    g = torch.tensor(g).float()\n",
    "    p = torch.tensor(p).float()\n",
    "    \n",
    "    for j in range(len(g)):\n",
    "        for i in range(4):\n",
    "            # 90 \n",
    "            g_90[j][i] = torch.rot90(g[j][i],1)\n",
    "            # 180\n",
    "            g_180[j][i] = torch.rot90(g[j][i],2)\n",
    "            # 270\n",
    "            g_270[j][i] = torch.rot90(g[j][i],3)    \n",
    "    for j in range(len(p)):\n",
    "        for i in range(4):\n",
    "            # 90 \n",
    "            p_90[j][i] = torch.rot90(p[j][i],1)\n",
    "            # 180\n",
    "            p_180[j][i] = torch.rot90(p[j][i],2)\n",
    "            # 270\n",
    "            p_270[j][i] = torch.rot90(p[j][i],3)\n",
    "    images_90 = np.vstack((g_90,p_90))\n",
    "    images_180 = np.vstack((g_180,p_180))\n",
    "    images_270 = np.vstack((g_270,p_270))\n",
    "    labels = np.hstack((g_label, p_label))\n",
    "    np.savez_compressed(\"/home/jua/SWGO/square/data/{}/augmentation/rotation/rot90_bin{}.npz\".format(normtype, Ebin)\n",
    "                        ,image=images_90,label=labels)\n",
    "    np.savez_compressed(\"/home/jua/SWGO/square/data/{}/augmentation/rotation/rot180_bin{}.npz\".format(normtype, Ebin)\n",
    "                        ,image=images_180,label=labels)\n",
    "    np.savez_compressed(\"/home/jua/SWGO/square/data/{}/augmentation/rotation/rot270_bin{}.npz\".format(normtype, Ebin)\n",
    "                        ,image=images_270,label=labels)\n",
    "    return len(g), len(p)"
   ]
  },
  {
   "cell_type": "code",
   "execution_count": 6,
   "metadata": {
    "scrolled": true
   },
   "outputs": [],
   "source": [
    "for i in range(2,9):\n",
    "    norm(i,gbins[i]['image'][:],pbins[i]['image'][:],'std')\n",
    "    #gim, pim = norm(i,gbins[i]['image'][:],pbins[i]['image'][:],'std')\n",
    "    #flip(i, gim, pim, 'std')\n",
    "    #rotate(i, gim, pim, 'std')\n",
    "    #del gim, pim\n",
    "    #gc.collect()"
   ]
  },
  {
   "cell_type": "code",
   "execution_count": null,
   "metadata": {},
   "outputs": [],
   "source": [
    "for i in range(1,9):\n",
    "    norm(i,gbins[i]['image'][:],pbins[i]['image'][:],'minmax')\n",
    "    '''\n",
    "    gim, pim = norm(i,gbins[i]['image'][:],pbins[i]['image'][:],'minmax')\n",
    "    flip(i, gim, pim, 'minmax')\n",
    "    rotate(i, gim, pim, 'minmax')\n",
    "    del gim, pim\n",
    "    gc.collect()\n",
    "    '''"
   ]
  },
  {
   "cell_type": "code",
   "execution_count": null,
   "metadata": {},
   "outputs": [],
   "source": []
  }
 ],
 "metadata": {
  "kernelspec": {
   "display_name": "Python 3",
   "language": "python",
   "name": "python3"
  },
  "language_info": {
   "codemirror_mode": {
    "name": "ipython",
    "version": 3
   },
   "file_extension": ".py",
   "mimetype": "text/x-python",
   "name": "python",
   "nbconvert_exporter": "python",
   "pygments_lexer": "ipython3",
   "version": "3.6.8"
  }
 },
 "nbformat": 4,
 "nbformat_minor": 2
}
