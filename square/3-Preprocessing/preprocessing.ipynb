{
 "cells": [
  {
   "cell_type": "code",
   "execution_count": 1,
   "metadata": {},
   "outputs": [],
   "source": [
    "import numpy as np\n",
    "import torch\n",
    "from sklearn import preprocessing"
   ]
  },
  {
   "cell_type": "code",
   "execution_count": 2,
   "metadata": {},
   "outputs": [],
   "source": [
    "gbin1 = np.load('/home/jua/corsika/run/energy_var/npz/square/0522/bin/all/gamma_energy_bin1_all.npz')\n",
    "pbin1 = np.load('/home/jua/corsika/run/energy_var/npz/square/0522/bin/all/proton_energy_bin1_all.npz')\n",
    "\n",
    "gbin2 = np.load('/home/jua/corsika/run/energy_var/npz/square/0522/bin/all/gamma_energy_bin2_all.npz')\n",
    "pbin2 = np.load('/home/jua/corsika/run/energy_var/npz/square/0522/bin/all/proton_energy_bin2_all.npz')\n",
    "\n",
    "gbin3 = np.load('/home/jua/corsika/run/energy_var/npz/square/0522/bin/all/gamma_energy_bin3_all.npz')\n",
    "pbin3 = np.load('/home/jua/corsika/run/energy_var/npz/square/0522/bin/all/proton_energy_bin3_all.npz')\n",
    "\n",
    "gbin4 = np.load('/home/jua/corsika/run/energy_var/npz/square/0522/bin/all/gamma_energy_bin4_all.npz')\n",
    "pbin4 = np.load('/home/jua/corsika/run/energy_var/npz/square/0522/bin/all/proton_energy_bin4_all.npz')\n",
    "\n",
    "gbin5 = np.load('/home/jua/corsika/run/energy_var/npz/square/0522/bin/all/gamma_energy_bin5_all.npz')\n",
    "pbin5 = np.load('/home/jua/corsika/run/energy_var/npz/square/0522/bin/all/proton_energy_bin5_all.npz')\n",
    "\n",
    "gbin6 = np.load('/home/jua/corsika/run/energy_var/npz/square/0522/bin/all/gamma_energy_bin6_all.npz')\n",
    "pbin6 = np.load('/home/jua/corsika/run/energy_var/npz/square/0522/bin/all/proton_energy_bin6_all.npz')\n",
    "\n",
    "gbin7 = np.load('/home/jua/corsika/run/energy_var/npz/square/0522/bin/all/gamma_energy_bin7_all.npz')\n",
    "pbin7 = np.load('/home/jua/corsika/run/energy_var/npz/square/0522/bin/all/proton_energy_bin7_all.npz')\n",
    "\n",
    "gbin8 = np.load('/home/jua/corsika/run/energy_var/npz/square/0522/bin/all/gamma_energy_bin8_all.npz')\n",
    "pbin8 = np.load('/home/jua/corsika/run/energy_var/npz/square/0522/bin/all/proton_energy_bin8_all.npz')\n",
    "\n",
    "gbin9 = np.load('/home/jua/corsika/run/energy_var/npz/square/0522/bin/all/gamma_energy_bin9_all.npz')\n",
    "pbin9 = np.load('/home/jua/corsika/run/energy_var/npz/square/0522/bin/all/proton_energy_bin9_all.npz')"
   ]
  },
  {
   "cell_type": "code",
   "execution_count": 20,
   "metadata": {},
   "outputs": [],
   "source": [
    "def norm(Ebin, g, p, normtype):\n",
    "    g_label = torch.zeros([len(g)])\n",
    "    p_label = torch.ones([len(p)])\n",
    "    if normtype == \"minmax\":\n",
    "        min_max_scaler = preprocessing.MinMaxScaler()\n",
    "        for j in range(len(g)):\n",
    "            for i in range(4):\n",
    "                g[j][i] = min_max_scaler.fit_transform(g[j][i])\n",
    "        for j in range(len(p)):\n",
    "            for i in range(4):\n",
    "                p[j][i] = min_max_scaler.fit_transform(p[j][i])\n",
    "    elif normtype == \"std\":\n",
    "        for j in range(len(g)):\n",
    "            for i in range(4):\n",
    "                scaler = preprocessing.StandardScaler().fit(g[j][i])\n",
    "                g[j][i] = scaler.transform(g[j][i])\n",
    "        for j in range(len(p)):\n",
    "            for i in range(4):\n",
    "                scaler = preprocessing.StandardScaler().fit(p[j][i])\n",
    "                p[j][i] = scaler.transform(p[j][i])\n",
    "    images = np.vstack((g,p))\n",
    "    labels = np.hstack((g_label, p_label))\n",
    "    np.savez_compressed(\"/home/jua/SWGO/square/data/{}/bin{}.npz\".format(normtype, Ebin),image=images,label=labels)\n",
    "    return len(g), len(p)"
   ]
  },
  {
   "cell_type": "code",
   "execution_count": 29,
   "metadata": {
    "scrolled": true
   },
   "outputs": [
    {
     "data": {
      "text/plain": [
       "(19, 24)"
      ]
     },
     "execution_count": 29,
     "metadata": {},
     "output_type": "execute_result"
    }
   ],
   "source": [
    "norm(9,gbin9['image'][:],pbin9['image'][:],'std')"
   ]
  },
  {
   "cell_type": "code",
   "execution_count": null,
   "metadata": {},
   "outputs": [],
   "source": []
  }
 ],
 "metadata": {
  "kernelspec": {
   "display_name": "Python 3",
   "language": "python",
   "name": "python3"
  },
  "language_info": {
   "codemirror_mode": {
    "name": "ipython",
    "version": 3
   },
   "file_extension": ".py",
   "mimetype": "text/x-python",
   "name": "python",
   "nbconvert_exporter": "python",
   "pygments_lexer": "ipython3",
   "version": "3.6.8"
  }
 },
 "nbformat": 4,
 "nbformat_minor": 2
}
