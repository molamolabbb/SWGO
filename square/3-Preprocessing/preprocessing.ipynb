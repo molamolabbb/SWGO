{
 "cells": [
  {
   "cell_type": "code",
   "execution_count": 1,
   "metadata": {},
   "outputs": [],
   "source": [
    "import numpy as np\n",
    "import torch\n",
    "import os\n",
    "import gc\n",
    "from sklearn import preprocessing"
   ]
  },
  {
   "cell_type": "code",
   "execution_count": 2,
   "metadata": {},
   "outputs": [],
   "source": [
    "path = '/home/jua/corsika/run/energy_var/npz/square/all/'\n",
    "filelist = os.listdir(path)\n",
    "gbins = {}\n",
    "pbins = {}\n",
    "for file in filelist:\n",
    "    n = int(file.split('_')[2][-1])\n",
    "    if file.split(\"_\")[0]=='gamma':\n",
    "        gbins[n]=np.load(path+file)\n",
    "    if file.split(\"_\")[0]=='proton':\n",
    "        pbins[n]=np.load(path+file)"
   ]
  },
  {
   "cell_type": "code",
   "execution_count": 3,
   "metadata": {},
   "outputs": [],
   "source": [
    "def norm(Ebin, g, p, normtype):\n",
    "    g_label = torch.zeros([len(g)])\n",
    "    p_label = torch.ones([len(p)])\n",
    "    if normtype == \"minmax\":\n",
    "        min_max_scaler = preprocessing.MinMaxScaler()\n",
    "        for j in range(len(g)):\n",
    "            for i in range(4):\n",
    "                g[j][i] = min_max_scaler.fit_transform(g[j][i])\n",
    "        for j in range(len(p)):\n",
    "            for i in range(4):\n",
    "                p[j][i] = min_max_scaler.fit_transform(p[j][i])\n",
    "    elif normtype == \"std\":\n",
    "        for j in range(len(g)):\n",
    "            for i in range(4):\n",
    "                scaler = preprocessing.StandardScaler().fit(g[j][i])\n",
    "                g[j][i] = scaler.transform(g[j][i])\n",
    "        for j in range(len(p)):\n",
    "            for i in range(4):\n",
    "                scaler = preprocessing.StandardScaler().fit(p[j][i])\n",
    "                p[j][i] = scaler.transform(p[j][i])\n",
    "    images = np.vstack((g,p))\n",
    "    labels = np.hstack((g_label, p_label))\n",
    "    np.savez_compressed(\"/home/jua/SWGO/square/data/{}/bin/bin{}.npz\".format(normtype, Ebin),image=images,label=labels)\n",
    "    return g, p"
   ]
  },
  {
   "cell_type": "code",
   "execution_count": 6,
   "metadata": {
    "scrolled": true
   },
   "outputs": [],
   "source": [
    "for i in range(2,9):\n",
    "    norm(i,gbins[i]['image'][:],pbins[i]['image'][:],'std')"
   ]
  },
  {
   "cell_type": "code",
   "execution_count": null,
   "metadata": {},
   "outputs": [],
   "source": [
    "for i in range(1,9):\n",
    "    norm(i,gbins[i]['image'][:],pbins[i]['image'][:],'minmax')"
   ]
  }
 ],
 "metadata": {
  "kernelspec": {
   "display_name": "Python 3",
   "language": "python",
   "name": "python3"
  },
  "language_info": {
   "codemirror_mode": {
    "name": "ipython",
    "version": 3
   },
   "file_extension": ".py",
   "mimetype": "text/x-python",
   "name": "python",
   "nbconvert_exporter": "python",
   "pygments_lexer": "ipython3",
   "version": "3.6.8"
  }
 },
 "nbformat": 4,
 "nbformat_minor": 2
}
