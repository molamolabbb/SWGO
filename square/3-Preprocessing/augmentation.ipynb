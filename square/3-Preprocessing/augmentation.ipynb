{
 "cells": [
  {
   "cell_type": "code",
   "execution_count": 2,
   "metadata": {},
   "outputs": [],
   "source": [
    "import numpy as np\n",
    "import torch\n",
    "import os\n",
    "import gc"
   ]
  },
  {
   "cell_type": "code",
   "execution_count": 3,
   "metadata": {},
   "outputs": [],
   "source": [
    "mmpath  = '/home/jua/SWGO/square/data/minmax/bin/'\n",
    "stdpath = '/home/jua/SWGO/square/data/std/bin/'\n",
    "\n",
    "mmfilelist  = os.listdir(mmpath)\n",
    "stdfilelist = os.listdir(stdpath)\n",
    "\n",
    "mmfilelist  = [np.load(mmpath+file) for file in mmfilelist]\n",
    "stdfilelist = [np.load(stdpath+file) for file in stdfilelist]"
   ]
  },
  {
   "cell_type": "code",
   "execution_count": 4,
   "metadata": {},
   "outputs": [],
   "source": [
    "def flip(Ebin, file, normtype):\n",
    "    labels = file['label']\n",
    "    image = file['image']\n",
    "    \n",
    "    image_ud = torch.zeros(len(image),4,51,51)\n",
    "    image_rl = torch.zeros(len(image),4,51,51)\n",
    "    \n",
    "    image = torch.tensor(image).float()\n",
    "    \n",
    "    for j in range(len(labels)):\n",
    "        for i in range(4):\n",
    "            # Upside Down \n",
    "            image_ud[j][i] = torch.flip(image[j][i],[0])\n",
    "            # Left and right reverse\n",
    "            image_rl[j][i] = torch.flip(image[j][i],[1])\n",
    "\n",
    "    np.savez_compressed(\"/home/jua/SWGO/square/data/{}/augmentation/flip/updown_bin{}.npz\".format(normtype, Ebin)\n",
    "                        ,image=image_ud,label=labels)\n",
    "    np.savez_compressed(\"/home/jua/SWGO/square/data/{}/augmentation/flip/rightleft_bin{}.npz\".format(normtype, Ebin)\n",
    "                        ,image=image_rl,label=labels)\n",
    "    del image_ud, image_rl\n",
    "    gc.collect()"
   ]
  },
  {
   "cell_type": "code",
   "execution_count": 5,
   "metadata": {},
   "outputs": [],
   "source": [
    "# anti clockwise\n",
    "def rotate(Ebin, file, normtype):\n",
    "    labels = file['label']\n",
    "    image = file['image']\n",
    "    \n",
    "    image_90 = torch.zeros(len(image),4,51,51)\n",
    "    image_180 = torch.zeros(len(image),4,51,51)\n",
    "    image_270 = torch.zeros(len(image),4,51,51)\n",
    "    \n",
    "    image = torch.tensor(image).float()\n",
    "    \n",
    "    for j in range(len(labels)):\n",
    "        for i in range(4):\n",
    "            # 90 \n",
    "            image_90[j][i]  = torch.rot90(image[j][i],1)\n",
    "            # 180\n",
    "            image_180[j][i] = torch.rot90(image[j][i],2)\n",
    "            # 270\n",
    "            image_270[j][i] = torch.rot90(image[j][i],3)    \n",
    "\n",
    "    np.savez_compressed(\"/home/jua/SWGO/square/data/{}/augmentation/rotation/rot90_bin{}.npz\".format(normtype, Ebin)\n",
    "                        ,image=image_90,label=labels)\n",
    "    np.savez_compressed(\"/home/jua/SWGO/square/data/{}/augmentation/rotation/rot180_bin{}.npz\".format(normtype, Ebin)\n",
    "                        ,image=image_180,label=labels)\n",
    "    np.savez_compressed(\"/home/jua/SWGO/square/data/{}/augmentation/rotation/rot270_bin{}.npz\".format(normtype, Ebin)\n",
    "                        ,image=image_270,label=labels)\n",
    "    del image_90, image_180, image_270\n",
    "    gc.collect()\n"
   ]
  },
  {
   "cell_type": "code",
   "execution_count": 15,
   "metadata": {
    "scrolled": true
   },
   "outputs": [],
   "source": [
    "for i in range(7,-1,-1):\n",
    "    flip(i+1, stdfilelist[i], 'std')\n",
    "    rotate(i+1, stdfilelist[i], 'std')\n",
    "    flip(i+1, stdfilelist[i], 'minmax')\n",
    "    rotate(i+1, stdfilelist[i], 'minmax')"
   ]
  }
 ],
 "metadata": {
  "kernelspec": {
   "display_name": "Python 3",
   "language": "python",
   "name": "python3"
  },
  "language_info": {
   "codemirror_mode": {
    "name": "ipython",
    "version": 3
   },
   "file_extension": ".py",
   "mimetype": "text/x-python",
   "name": "python",
   "nbconvert_exporter": "python",
   "pygments_lexer": "ipython3",
   "version": "3.6.8"
  }
 },
 "nbformat": 4,
 "nbformat_minor": 2
}
