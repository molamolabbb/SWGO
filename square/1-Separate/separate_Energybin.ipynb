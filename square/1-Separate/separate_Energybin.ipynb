{
 "cells": [
  {
   "cell_type": "code",
   "execution_count": 22,
   "metadata": {},
   "outputs": [],
   "source": [
    "import numpy as np\n",
    "import matplotlib.pyplot as plt\n",
    "import time\n",
    "import sys\n",
    "import os \n",
    "import gc\n",
    "\n",
    "import torch\n",
    "import torchvision\n",
    "from torchvision import models\n",
    "import torchvision.transforms as transforms\n",
    "from torch.autograd import Variable\n",
    "import torch.nn as nn \n",
    "import torch.nn.functional as F\n",
    "import torch.optim as optim\n",
    "\n",
    "\n",
    "from sklearn import svm, datasets\n",
    "from sklearn.metrics import roc_curve, auc\n",
    "from sklearn.model_selection import train_test_split\n",
    "from sklearn.preprocessing import label_binarize\n",
    "from sklearn.multiclass import OneVsRestClassifier\n",
    "from scipy import interp\n",
    "from sklearn.metrics import roc_auc_score\n"
   ]
  },
  {
   "cell_type": "code",
   "execution_count": null,
   "metadata": {},
   "outputs": [],
   "source": [
    "gList = ['/home/jua/corsika/run/energy_var/npz/square/0514/gamma_square_n51.npz',\n",
    "             '/home/jua/corsika/run/energy_var/npz/square/0513/gamma_square_n51_0.npz',\n",
    "             '/home/jua/corsika/run/energy_var/npz/square/0513/gamma_square_n51_1.npz',\n",
    "             '/home/jua/corsika/run/energy_var/npz/square/0513/gamma_square_n51_2.npz',\n",
    "             '/home/jua/corsika/run/energy_var/npz/square/0513/gamma_square_n51_3.npz',\n",
    "             '/home/jua/corsika/run/energy_var/npz/square/0513/gamma_square_n51_4.npz',\n",
    "             '/home/jua/corsika/run/energy_var/npz/square/0513/gamma_square_n51_5.npz',\n",
    "             '/home/jua/corsika/run/energy_var/npz/square/0513/gamma_square_n51_6.npz',\n",
    "             '/home/jua/corsika/run/energy_var/npz/square/0513/gamma_square_n51_7.npz',\n",
    "             '/home/jua/corsika/run/energy_var/npz/square/0513/gamma_square_n51_8.npz',\n",
    "             '/home/jua/corsika/run/energy_var/npz/square/0513/gamma_square_n51_9.npz'\n",
    "            ]"
   ]
  },
  {
   "cell_type": "code",
   "execution_count": 29,
   "metadata": {},
   "outputs": [],
   "source": [
    "pList = ['/home/jua/corsika/run/energy_var/npz/square/0513/proton_square_n51.npz',\n",
    "             '/home/jua/corsika/run/energy_var/npz/square/0514/proton_square_n51_0.npz',\n",
    "             '/home/jua/corsika/run/energy_var/npz/square/0514/proton_square_n51_1.npz',\n",
    "             '/home/jua/corsika/run/energy_var/npz/square/0514/proton_square_n51_2.npz',\n",
    "             '/home/jua/corsika/run/energy_var/npz/square/0514/proton_square_n51_3.npz',\n",
    "             '/home/jua/corsika/run/energy_var/npz/square/0514/proton_square_n51_4.npz',\n",
    "             '/home/jua/corsika/run/energy_var/npz/square/0514/proton_square_n51_5.npz',\n",
    "             '/home/jua/corsika/run/energy_var/npz/square/0514/proton_square_n51_6.npz',\n",
    "             '/home/jua/corsika/run/energy_var/npz/square/0514/proton_square_n51_7.npz',\n",
    "             '/home/jua/corsika/run/energy_var/npz/square/0514/proton_square_n51_8.npz',\n",
    "             '/home/jua/corsika/run/energy_var/npz/square/0514/proton_square_n51_9.npz'\n",
    "            ]"
   ]
  },
  {
   "cell_type": "code",
   "execution_count": 23,
   "metadata": {},
   "outputs": [],
   "source": [
    "'''\n",
    "pList = [\n",
    "             '/home/jua/corsika/run/energy_var/npz/square/0520/proton_square_n51_0.npz',\n",
    "             '/home/jua/corsika/run/energy_var/npz/square/0520/proton_square_n51_1.npz',\n",
    "             '/home/jua/corsika/run/energy_var/npz/square/0520/proton_square_n51_2.npz',\n",
    "             '/home/jua/corsika/run/energy_var/npz/square/0520/proton_square_n51_3.npz',\n",
    "             '/home/jua/corsika/run/energy_var/npz/square/0520/proton_square_n51_4.npz',\n",
    "             '/home/jua/corsika/run/energy_var/npz/square/0520/proton_square_n51_5.npz',\n",
    "             '/home/jua/corsika/run/energy_var/npz/square/0520/proton_square_n51_6.npz',\n",
    "             '/home/jua/corsika/run/energy_var/npz/square/0520/proton_square_n51_7.npz',\n",
    "             '/home/jua/corsika/run/energy_var/npz/square/0520/proton_square_n51_8.npz',\n",
    "             '/home/jua/corsika/run/energy_var/npz/square/0520/proton_square_n51_9.npz'\n",
    "            ]\n",
    "'''"
   ]
  },
  {
   "cell_type": "code",
   "execution_count": 24,
   "metadata": {},
   "outputs": [],
   "source": [
    "perPMTHit = [6.7,10.5,16.2,24.7,35.6,48.5,61.8,74.0,85.0,100.0]"
   ]
  },
  {
   "cell_type": "code",
   "execution_count": 25,
   "metadata": {},
   "outputs": [],
   "source": [
    "# bin all\n",
    "def SeparateBinHit(image, energy, binHit):\n",
    "    n = len(image)\n",
    "    for imu, iml, im, en in zip(image[:,0][:n],image[:,3][:n], image[:n], energy[:n]):\n",
    "        percent = (len(imu[imu!=0])+len(iml[iml!=0]))*100/(51.0*51.0*2)\n",
    "        for i in range(9):\n",
    "            if perPMTHit[i] < percent < perPMTHit[i+1]:\n",
    "                binHit[i][0].append(im)\n",
    "                binHit[i][1].append(en)"
   ]
  },
  {
   "cell_type": "code",
   "execution_count": 30,
   "metadata": {},
   "outputs": [],
   "source": [
    "for n,file in enumerate(pList,10):\n",
    "    pbinHitAll = [[[],[]] for i in range(9)]\n",
    "    proton = np.load(file)\n",
    "    pim = proton['arr_0']\n",
    "    pen = proton['arr_1'] \n",
    "    SeparateBinHit(pim, pen, pbinHitAll)\n",
    "    \n",
    "    for i in range(9):\n",
    "        pbinHitAll[i][0] = np.asarray(pbinHitAll[i][0])\n",
    "        pbinHitAll[i][1] = np.asarray(pbinHitAll[i][1])\n",
    "        np.savez_compressed('/home/jua/corsika/run/energy_var/npz/square/0522/bin/proton_energy_bin{}_{}.npz'.format(i+1,n),\n",
    "                        image=np.asarray(pbinHitAll[i][0]),energy=np.asarray(pbinHitAll[i][1]))\n",
    "    del proton, pim, pen, pbinHitAll\n",
    "    gc.collect()    \n",
    "    #pbinHitAll = [[[],[]] for i in range(9)]"
   ]
  },
  {
   "cell_type": "code",
   "execution_count": 37,
   "metadata": {
    "scrolled": true
   },
   "outputs": [],
   "source": [
    "for n,file in enumerate(gList):\n",
    "    gbinHitAll = [[[],[]] for i in range(9)]\n",
    "    gamma = np.load(file)\n",
    "    gim = gamma['arr_0']\n",
    "    gen = gamma['arr_1'] \n",
    "    SeparateBinHit(gim, gen, gbinHitAll)\n",
    "    \n",
    "    for i in range(9):\n",
    "        gbinHitAll[i][0] = np.asarray(gbinHitAll[i][0])\n",
    "        gbinHitAll[i][1] = np.asarray(gbinHitAll[i][1])\n",
    "        np.savez_compressed('/home/jua/corsika/run/energy_var/npz/square/0522/bin/gamma_energy_bin{}_{}.npz'.format(i+1,n),\n",
    "                        image=np.asarray(gbinHitAll[i][0]),energy=np.asarray(gbinHitAll[i][1]))\n",
    "    del gamma, gim, gen, gbinHitAll\n",
    "    gc.collect() "
   ]
  },
  {
   "cell_type": "code",
   "execution_count": 35,
   "metadata": {},
   "outputs": [],
   "source": [
    "del gamma, gim, gen, gbinHitAll"
   ]
  },
  {
   "cell_type": "code",
   "execution_count": 36,
   "metadata": {},
   "outputs": [
    {
     "data": {
      "text/plain": [
       "8"
      ]
     },
     "execution_count": 36,
     "metadata": {},
     "output_type": "execute_result"
    }
   ],
   "source": [
    "gc.collect()"
   ]
  },
  {
   "cell_type": "code",
   "execution_count": null,
   "metadata": {},
   "outputs": [],
   "source": []
  }
 ],
 "metadata": {
  "kernelspec": {
   "display_name": "Python 3",
   "language": "python",
   "name": "python3"
  },
  "language_info": {
   "codemirror_mode": {
    "name": "ipython",
    "version": 3
   },
   "file_extension": ".py",
   "mimetype": "text/x-python",
   "name": "python",
   "nbconvert_exporter": "python",
   "pygments_lexer": "ipython3",
   "version": "3.6.8"
  }
 },
 "nbformat": 4,
 "nbformat_minor": 2
}
