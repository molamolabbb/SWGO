{
 "cells": [
  {
   "cell_type": "code",
   "execution_count": 12,
   "metadata": {},
   "outputs": [],
   "source": [
    "import numpy as np"
   ]
  },
  {
   "cell_type": "code",
   "execution_count": 13,
   "metadata": {},
   "outputs": [],
   "source": [
    "pfile_list = {}\n",
    "for nbin in range(1,10):\n",
    "    pfile_list[nbin] = [\n",
    "                 '/home/jua/corsika/run/energy_var/npz/square/0522/bin/proton_energy_bin{}_0.npz'.format(nbin),\n",
    "                 '/home/jua/corsika/run/energy_var/npz/square/0522/bin/proton_energy_bin{}_1.npz'.format(nbin),\n",
    "                 '/home/jua/corsika/run/energy_var/npz/square/0522/bin/proton_energy_bin{}_2.npz'.format(nbin),\n",
    "                 '/home/jua/corsika/run/energy_var/npz/square/0522/bin/proton_energy_bin{}_3.npz'.format(nbin),\n",
    "                 '/home/jua/corsika/run/energy_var/npz/square/0522/bin/proton_energy_bin{}_4.npz'.format(nbin),\n",
    "                 '/home/jua/corsika/run/energy_var/npz/square/0522/bin/proton_energy_bin{}_5.npz'.format(nbin),\n",
    "                 '/home/jua/corsika/run/energy_var/npz/square/0522/bin/proton_energy_bin{}_6.npz'.format(nbin),\n",
    "                 '/home/jua/corsika/run/energy_var/npz/square/0522/bin/proton_energy_bin{}_7.npz'.format(nbin),\n",
    "                 '/home/jua/corsika/run/energy_var/npz/square/0522/bin/proton_energy_bin{}_8.npz'.format(nbin),\n",
    "                 '/home/jua/corsika/run/energy_var/npz/square/0522/bin/proton_energy_bin{}_9.npz'.format(nbin),\n",
    "                 '/home/jua/corsika/run/energy_var/npz/square/0522/bin/proton_energy_bin{}_10.npz'.format(nbin),\n",
    "                 '/home/jua/corsika/run/energy_var/npz/square/0522/bin/proton_energy_bin{}_11.npz'.format(nbin),\n",
    "                 '/home/jua/corsika/run/energy_var/npz/square/0522/bin/proton_energy_bin{}_12.npz'.format(nbin),\n",
    "                 '/home/jua/corsika/run/energy_var/npz/square/0522/bin/proton_energy_bin{}_13.npz'.format(nbin),\n",
    "                 '/home/jua/corsika/run/energy_var/npz/square/0522/bin/proton_energy_bin{}_14.npz'.format(nbin),\n",
    "                 '/home/jua/corsika/run/energy_var/npz/square/0522/bin/proton_energy_bin{}_15.npz'.format(nbin),\n",
    "                 '/home/jua/corsika/run/energy_var/npz/square/0522/bin/proton_energy_bin{}_16.npz'.format(nbin),\n",
    "                 '/home/jua/corsika/run/energy_var/npz/square/0522/bin/proton_energy_bin{}_17.npz'.format(nbin),\n",
    "                 '/home/jua/corsika/run/energy_var/npz/square/0522/bin/proton_energy_bin{}_18.npz'.format(nbin),\n",
    "                 '/home/jua/corsika/run/energy_var/npz/square/0522/bin/proton_energy_bin{}_19.npz'.format(nbin),\n",
    "                 '/home/jua/corsika/run/energy_var/npz/square/0522/bin/proton_energy_bin{}_20.npz'.format(nbin)\n",
    "                ]"
   ]
  },
  {
   "cell_type": "code",
   "execution_count": 54,
   "metadata": {},
   "outputs": [],
   "source": [
    "gfile_list = {}\n",
    "for nbin in range(1,10):\n",
    "    gfile_list[nbin] = [\n",
    "                 '/home/jua/corsika/run/energy_var/npz/square/0522/bin/gamma_energy_bin{}_0.npz'.format(nbin),\n",
    "                 '/home/jua/corsika/run/energy_var/npz/square/0522/bin/gamma_energy_bin{}_1.npz'.format(nbin),\n",
    "                 '/home/jua/corsika/run/energy_var/npz/square/0522/bin/gamma_energy_bin{}_2.npz'.format(nbin),\n",
    "                 '/home/jua/corsika/run/energy_var/npz/square/0522/bin/gamma_energy_bin{}_3.npz'.format(nbin),\n",
    "                 '/home/jua/corsika/run/energy_var/npz/square/0522/bin/gamma_energy_bin{}_4.npz'.format(nbin),\n",
    "                 '/home/jua/corsika/run/energy_var/npz/square/0522/bin/gamma_energy_bin{}_5.npz'.format(nbin),\n",
    "                 '/home/jua/corsika/run/energy_var/npz/square/0522/bin/gamma_energy_bin{}_6.npz'.format(nbin),\n",
    "                 '/home/jua/corsika/run/energy_var/npz/square/0522/bin/gamma_energy_bin{}_7.npz'.format(nbin),\n",
    "                 '/home/jua/corsika/run/energy_var/npz/square/0522/bin/gamma_energy_bin{}_8.npz'.format(nbin),\n",
    "                 '/home/jua/corsika/run/energy_var/npz/square/0522/bin/gamma_energy_bin{}_9.npz'.format(nbin),\n",
    "                 '/home/jua/corsika/run/energy_var/npz/square/0522/bin/gamma_energy_bin{}_10.npz'.format(nbin),\n",
    "\n",
    "                ]"
   ]
  },
  {
   "cell_type": "code",
   "execution_count": 52,
   "metadata": {},
   "outputs": [],
   "source": [
    "def merge(file_list,whichparticle):\n",
    "    for nbin in range(1,10):\n",
    "        filels = file_list[nbin]\n",
    "        ptc = np.load(filels[0])\n",
    "        im = ptc['image']\n",
    "        en = ptc['energy']\n",
    "        for path in filels[1:]:\n",
    "            particle = np.load(path)\n",
    "            if len(particle['image'])==0:continue\n",
    "            im = np.vstack((im, particle['image']))\n",
    "            en = np.hstack((en, particle['energy']))\n",
    "        np.savez_compressed('/home/jua/corsika/run/energy_var/npz/square/0522/bin/all/{}_energy_bin{}_all.npz'.format(whichparticle,nbin)\n",
    "                            ,image=im,energy=en)"
   ]
  },
  {
   "cell_type": "code",
   "execution_count": 55,
   "metadata": {},
   "outputs": [],
   "source": [
    "merge(gfile_list,'gamma')"
   ]
  },
  {
   "cell_type": "code",
   "execution_count": null,
   "metadata": {},
   "outputs": [],
   "source": []
  }
 ],
 "metadata": {
  "kernelspec": {
   "display_name": "Python 3",
   "language": "python",
   "name": "python3"
  },
  "language_info": {
   "codemirror_mode": {
    "name": "ipython",
    "version": 3
   },
   "file_extension": ".py",
   "mimetype": "text/x-python",
   "name": "python",
   "nbconvert_exporter": "python",
   "pygments_lexer": "ipython3",
   "version": "3.6.8"
  }
 },
 "nbformat": 4,
 "nbformat_minor": 2
}
