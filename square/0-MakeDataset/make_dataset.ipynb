{
 "cells": [
  {
   "cell_type": "code",
   "execution_count": 1,
   "metadata": {},
   "outputs": [],
   "source": [
    "import os\n",
    "import pprint"
   ]
  },
  {
   "cell_type": "code",
   "execution_count": 2,
   "metadata": {},
   "outputs": [],
   "source": [
    "pp = pprint.pprint\n",
    "filename = './dataset.txt'\n",
    "f = open(filename,'w')\n",
    "pathlist = [\n",
    "    \"/home/jua/corsika/run/energy_var/npz/square/0513\",\n",
    "    \"/home/jua/corsika/run/energy_var/npz/square/0514\",\n",
    "    \"/home/jua/corsika/run/energy_var/npz/square/0519\",\n",
    "    \"/home/jua/corsika/run/energy_var/npz/square/0526\",\n",
    "    \"/home/jua/corsika/run/energy_var/npz/square/0529\"\n",
    "]"
   ]
  },
  {
   "cell_type": "code",
   "execution_count": 3,
   "metadata": {},
   "outputs": [],
   "source": [
    "filelist = []\n",
    "for path in pathlist:\n",
    "    temp = os.listdir(path)\n",
    "    temp = map(lambda p: os.path.join(path, p), temp)\n",
    "    filelist += temp"
   ]
  },
  {
   "cell_type": "code",
   "execution_count": 4,
   "metadata": {},
   "outputs": [],
   "source": [
    "for file in filelist:\n",
    "    f.write(file+\"\\n\")"
   ]
  },
  {
   "cell_type": "code",
   "execution_count": 5,
   "metadata": {},
   "outputs": [],
   "source": [
    "f.close()"
   ]
  }
 ],
 "metadata": {
  "kernelspec": {
   "display_name": "Python 3",
   "language": "python",
   "name": "python3"
  },
  "language_info": {
   "codemirror_mode": {
    "name": "ipython",
    "version": 3
   },
   "file_extension": ".py",
   "mimetype": "text/x-python",
   "name": "python",
   "nbconvert_exporter": "python",
   "pygments_lexer": "ipython3",
   "version": "3.6.8"
  }
 },
 "nbformat": 4,
 "nbformat_minor": 2
}
