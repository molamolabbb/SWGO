{
 "cells": [
  {
   "cell_type": "code",
   "execution_count": 1,
   "metadata": {},
   "outputs": [],
   "source": [
    "import numpy as np\n",
    "from random import shuffle\n",
    "import matplotlib.pyplot as plt\n",
    "import time\n",
    "import sys\n",
    "import os\n",
    "os.environ[\"CUDA_VISIBLE_DEVICES\"]=\"1\"\n",
    "\n",
    "import torch\n",
    "import torchvision\n",
    "from torchvision import models\n",
    "import torchvision.transforms as transforms\n",
    "from torch.autograd import Variable\n",
    "import torch.nn as nn \n",
    "import torch.nn.functional as F\n",
    "import torch.optim as optim\n",
    "from torch.utils.tensorboard import SummaryWriter\n",
    "\n",
    "\n",
    "from sklearn import svm, datasets\n",
    "from sklearn.metrics import roc_curve, auc\n",
    "from sklearn.model_selection import train_test_split\n",
    "from sklearn.preprocessing import label_binarize\n",
    "from sklearn.multiclass import OneVsRestClassifier\n",
    "from scipy import interp\n",
    "from sklearn.metrics import roc_auc_score"
   ]
  },
  {
   "cell_type": "code",
   "execution_count": 2,
   "metadata": {},
   "outputs": [],
   "source": [
    "gbin1 = np.load('/home/jua/corsika/run/energy_var/npz/square/bin/gamma_energy_bin1_all.npz')\n",
    "pbin1 = np.load('/home/jua/corsika/run/energy_var/npz/square/bin/proton_energy_bin1_all.npz')\n",
    "\n",
    "gbin2 = np.load('/home/jua/corsika/run/energy_var/npz/square/bin/gamma_energy_bin2_all.npz')\n",
    "pbin2 = np.load('/home/jua/corsika/run/energy_var/npz/square/bin/proton_energy_bin2_all.npz')\n",
    "\n",
    "gbin3 = np.load('/home/jua/corsika/run/energy_var/npz/square/bin/gamma_energy_bin3_all.npz')\n",
    "pbin3 = np.load('/home/jua/corsika/run/energy_var/npz/square/bin/proton_energy_bin3_all.npz')\n",
    "\n",
    "gbin4 = np.load('/home/jua/corsika/run/energy_var/npz/square/bin/gamma_energy_bin4_all.npz')\n",
    "pbin4 = np.load('/home/jua/corsika/run/energy_var/npz/square/bin/proton_energy_bin4_all.npz')\n",
    "\n",
    "gbin5 = np.load('/home/jua/corsika/run/energy_var/npz/square/bin/gamma_energy_bin5_all.npz')\n",
    "pbin5 = np.load('/home/jua/corsika/run/energy_var/npz/square/bin/proton_energy_bin5_all.npz')\n",
    "\n",
    "gbin6 = np.load('/home/jua/corsika/run/energy_var/npz/square/bin/gamma_energy_bin6_all.npz')\n",
    "pbin6 = np.load('/home/jua/corsika/run/energy_var/npz/square/bin/proton_energy_bin6_all.npz')\n",
    "\n",
    "gbin7 = np.load('/home/jua/corsika/run/energy_var/npz/square/bin/gamma_energy_bin7_all.npz')\n",
    "pbin7 = np.load('/home/jua/corsika/run/energy_var/npz/square/bin/proton_energy_bin7_all.npz')\n",
    "\n",
    "gbin8 = np.load('/home/jua/corsika/run/energy_var/npz/square/bin/gamma_energy_bin8_all.npz')\n",
    "pbin8 = np.load('/home/jua/corsika/run/energy_var/npz/square/bin/proton_energy_bin8_all.npz')\n",
    "\n",
    "gbin9 = np.load('/home/jua/corsika/run/energy_var/npz/square/bin/gamma_energy_bin9_all.npz')\n",
    "pbin9 = np.load('/home/jua/corsika/run/energy_var/npz/square/bin/proton_energy_bin9_all.npz')"
   ]
  },
  {
   "cell_type": "code",
   "execution_count": 3,
   "metadata": {},
   "outputs": [],
   "source": [
    "Ebins = 1\n",
    "gim = gbin1['image'][:]\n",
    "pim = pbin1['image'][:]\n",
    "gim_label = torch.zeros([len(gim)])\n",
    "pim_label = torch.ones([len(pim)]) \n",
    "classes = {0:'gamma',1:'proton'}"
   ]
  },
  {
   "cell_type": "code",
   "execution_count": 4,
   "metadata": {},
   "outputs": [],
   "source": [
    "images = np.vstack((gim,pim))\n",
    "labels = np.hstack((gim_label, pim_label))"
   ]
  },
  {
   "cell_type": "code",
   "execution_count": 5,
   "metadata": {},
   "outputs": [],
   "source": [
    "images = torch.tensor(images).float()\n",
    "labels = torch.tensor(labels).float()"
   ]
  },
  {
   "cell_type": "code",
   "execution_count": 6,
   "metadata": {},
   "outputs": [],
   "source": [
    "sets = [(images[i],labels[i])for i in range(len(labels))]\n",
    "shuffle(sets)"
   ]
  },
  {
   "cell_type": "code",
   "execution_count": 7,
   "metadata": {},
   "outputs": [],
   "source": [
    "train_sets = sets[:int(len(sets)*0.5)]\n",
    "valid_sets = sets[int(len(sets)*0.5):int(len(sets)*0.75)]\n",
    "test_sets = sets[int(len(sets)*0.75):]"
   ]
  },
  {
   "cell_type": "code",
   "execution_count": 8,
   "metadata": {},
   "outputs": [],
   "source": [
    "batchsize = 4\n",
    "trainloader = torch.utils.data.DataLoader(train_sets, batch_size=batchsize, shuffle=True, num_workers=2)\n",
    "validloader = torch.utils.data.DataLoader(valid_sets, batch_size=batchsize, shuffle=True, num_workers=2)\n",
    "testloader = torch.utils.data.DataLoader(test_sets, batch_size=batchsize, shuffle=True, num_workers=2)"
   ]
  },
  {
   "cell_type": "code",
   "execution_count": 9,
   "metadata": {},
   "outputs": [
    {
     "name": "stdout",
     "output_type": "stream",
     "text": [
      "# of gamma images : 59, # of proton images : 11\n",
      "# of Train : 35, # of valid : 17, # of Test : 18\n"
     ]
    }
   ],
   "source": [
    "print('# of gamma images : {}, # of proton images : {}'.format(len(gim),len(pim)))\n",
    "print('# of Train : {}, # of valid : {}, # of Test : {}'.format(len(train_sets),len(valid_sets),len(test_sets)))"
   ]
  },
  {
   "cell_type": "code",
   "execution_count": 10,
   "metadata": {},
   "outputs": [],
   "source": [
    "dataloader = {'train':trainloader, 'valid':validloader,'test':testloader}\n",
    "datasize = {'train': len(train_sets),'valid':len(valid_sets), 'test':len(test_sets)}"
   ]
  },
  {
   "cell_type": "code",
   "execution_count": 11,
   "metadata": {},
   "outputs": [],
   "source": [
    "class Net(nn.Module):\n",
    "    def __init__(self):\n",
    "        super(Net,self).__init__()\n",
    "        self.layer1 =  nn.Sequential(\n",
    "            nn.Conv2d(4,64,3,bias=False),\n",
    "            nn.BatchNorm2d(64),\n",
    "            nn.ReLU(inplace=True),\n",
    "            nn.MaxPool2d(kernel_size=2, stride=2, padding=0, dilation=1, ceil_mode=False),\n",
    "\n",
    "            nn.Conv2d(64,128,3, padding=(1, 1)),\n",
    "            nn.BatchNorm2d(128),\n",
    "            nn.ReLU(inplace=True),\n",
    "            nn.MaxPool2d(kernel_size=2, stride=2, padding=0, dilation=1, ceil_mode=False),\n",
    "\n",
    "            nn.Conv2d(128,256,3, padding=(1, 1)),\n",
    "            nn.BatchNorm2d(256),\n",
    "            nn.ReLU(inplace=True),\n",
    "            nn.MaxPool2d(kernel_size=2, stride=2, padding=0, dilation=1, ceil_mode=False),\n",
    "\n",
    "            nn.Conv2d(256,512,3, padding=(1, 1)),\n",
    "            nn.BatchNorm2d(512),\n",
    "            nn.ReLU(inplace=True),\n",
    "\n",
    "            nn.AdaptiveAvgPool2d(output_size=(7, 7))\n",
    "            )\n",
    "        self.layer2 = nn.Sequential(\n",
    "            nn.Linear(in_features=512*7*7, out_features=128, bias=True),\n",
    "            #nn.Linear(in_features=256, out_features=128, bias=True),\n",
    "            nn.ReLU(inplace=True),\n",
    "            nn.Dropout(p=0.5, inplace=False),\n",
    "            nn.Linear(in_features=128, out_features=128, bias=True),\n",
    "            nn.ReLU(inplace=True),\n",
    "            nn.Dropout(p=0.5, inplace=False),\n",
    "            nn.Linear(in_features=128, out_features=1, bias=True)\n",
    "        )\n",
    "        \n",
    "    def forward(self, x):\n",
    "        x = self.layer1(x)\n",
    "        #x = x.mean(dim=(2,3))\n",
    "        x = x.view(-1,512*7*7)\n",
    "        x = self.layer2(x)\n",
    "        return x\n"
   ]
  },
  {
   "cell_type": "code",
   "execution_count": 12,
   "metadata": {},
   "outputs": [],
   "source": [
    "def weight_init(m):\n",
    "    if isinstance(m, nn.Linear):\n",
    "        # print('Reset parameters of Linear')\n",
    "        m.reset_parameters()\n",
    "\n",
    "def freeze_conv(m):\n",
    "    if isinstance(m, nn.Conv2d):\n",
    "        # print('Freeze parameters of Conv2d')\n",
    "        m.weight.requires_grad = False\n",
    "        if m.bias is not None:\n",
    "            m.bias.requires_grad = False"
   ]
  },
  {
   "cell_type": "code",
   "execution_count": 13,
   "metadata": {},
   "outputs": [
    {
     "data": {
      "text/plain": [
       "Net(\n",
       "  (layer1): Sequential(\n",
       "    (0): Conv2d(4, 64, kernel_size=(3, 3), stride=(1, 1), bias=False)\n",
       "    (1): BatchNorm2d(64, eps=1e-05, momentum=0.1, affine=True, track_running_stats=True)\n",
       "    (2): ReLU(inplace=True)\n",
       "    (3): MaxPool2d(kernel_size=2, stride=2, padding=0, dilation=1, ceil_mode=False)\n",
       "    (4): Conv2d(64, 128, kernel_size=(3, 3), stride=(1, 1), padding=(1, 1))\n",
       "    (5): BatchNorm2d(128, eps=1e-05, momentum=0.1, affine=True, track_running_stats=True)\n",
       "    (6): ReLU(inplace=True)\n",
       "    (7): MaxPool2d(kernel_size=2, stride=2, padding=0, dilation=1, ceil_mode=False)\n",
       "    (8): Conv2d(128, 256, kernel_size=(3, 3), stride=(1, 1), padding=(1, 1))\n",
       "    (9): BatchNorm2d(256, eps=1e-05, momentum=0.1, affine=True, track_running_stats=True)\n",
       "    (10): ReLU(inplace=True)\n",
       "    (11): MaxPool2d(kernel_size=2, stride=2, padding=0, dilation=1, ceil_mode=False)\n",
       "    (12): Conv2d(256, 512, kernel_size=(3, 3), stride=(1, 1), padding=(1, 1))\n",
       "    (13): BatchNorm2d(512, eps=1e-05, momentum=0.1, affine=True, track_running_stats=True)\n",
       "    (14): ReLU(inplace=True)\n",
       "    (15): AdaptiveAvgPool2d(output_size=(7, 7))\n",
       "  )\n",
       "  (layer2): Sequential(\n",
       "    (0): Linear(in_features=25088, out_features=128, bias=True)\n",
       "    (1): ReLU(inplace=True)\n",
       "    (2): Dropout(p=0.5, inplace=False)\n",
       "    (3): Linear(in_features=128, out_features=128, bias=True)\n",
       "    (4): ReLU(inplace=True)\n",
       "    (5): Dropout(p=0.5, inplace=False)\n",
       "    (6): Linear(in_features=128, out_features=1, bias=True)\n",
       "  )\n",
       ")"
      ]
     },
     "execution_count": 13,
     "metadata": {},
     "output_type": "execute_result"
    }
   ],
   "source": [
    "net = Net()\n",
    "\n",
    "if Ebins > 3:\n",
    "    net.load_state_dict(torch.load(\"model/best_B1_1.pth\"))  \n",
    "    net.apply(weight_init)\n",
    "    net.apply(freeze_conv)\n",
    "\n",
    "device=torch.device('cuda')\n",
    "net.to(device)\n",
    "net.eval()"
   ]
  },
  {
   "cell_type": "code",
   "execution_count": 14,
   "metadata": {},
   "outputs": [],
   "source": [
    "learning_rate = 0.001\n",
    "criterion = nn.BCEWithLogitsLoss()\n",
    "#optimizer = optim.Adam(net.parameters(), lr=learning_rate)\n",
    "optimizer = optim.SGD(net.parameters(), lr = 0.001, momentum=0.9)\n",
    "exp_lr_scheduler = optim.lr_scheduler.StepLR(optimizer, step_size=10, gamma=0.1)\n",
    "#exp_lr_scheduler = optim.lr_scheduler.ReduceLROnPlateau(optimizer, 'min')"
   ]
  },
  {
   "cell_type": "code",
   "execution_count": 15,
   "metadata": {},
   "outputs": [],
   "source": [
    "threshold = 0.5"
   ]
  },
  {
   "cell_type": "code",
   "execution_count": 16,
   "metadata": {},
   "outputs": [],
   "source": [
    "def train_model(net, dataloader, criterion, optimizer, scheduler, Ebins, batchsize, num_epochs=1, device=torch.device('cuda')):\n",
    "    \n",
    "    since = time.time()\n",
    "    best_net_wts = net.state_dict()\n",
    "    best_acc = 0.0\n",
    "    \n",
    "    losses = {'train':[],'valid':[]}\n",
    "    accuracy = {'train':[],'valid':[]}\n",
    "    \n",
    "    for epoch in range(num_epochs):\n",
    "        print( )\n",
    "        print(\"Epoch {}/{}\".format(epoch, num_epochs-1))\n",
    "        print('-'*10)\n",
    "        for phase in ['train','valid']:\n",
    "            if phase=='train':\n",
    "                net.train(True)\n",
    "            else:\n",
    "                net.eval()\n",
    "                \n",
    "            running_loss = 0.0\n",
    "            running_corrects= 0\n",
    "            ep_running_loss = 0.0\n",
    "            ep_running_corrects = 0\n",
    "            device = torch.device('cuda')\n",
    "            for i, data in enumerate(dataloader[phase]):\n",
    "                inputs, labels = data[0].to(device), data[1].to(device)\n",
    "                if phase=='train':\n",
    "                    optimizer.zero_grad()\n",
    "                logits = net(inputs)\n",
    "                outputs = logits.sigmoid()\n",
    "                #outputs = net(inputs)\n",
    "                #_, preds = torch.max(outputs.data, 1)\n",
    "                preds = outputs>threshold\n",
    "                loss = criterion(logits, labels.view(-1,1).float())\n",
    "                if phase=='train':\n",
    "                    loss.backward()\n",
    "                    optimizer.step()\n",
    "                    \n",
    "                    \n",
    "                running_loss += loss.data\n",
    "                ep_running_loss += loss.data\n",
    "                target = labels.view(-1,1)>threshold\n",
    "                running_corrects += torch.sum(preds==target)\n",
    "                ep_running_corrects += torch.sum(preds==target)\n",
    "                               \n",
    "                # Tensor Board \n",
    "                n_times = 10\n",
    "                if i%n_times==9:\n",
    "                    writer.add_scalar('{} loss'.format(phase),\n",
    "                                     running_loss/(n_times),\n",
    "                                     epoch*len(dataloader[phase])+i)\n",
    "                    writer.add_scalar('{} Accuracy'.format(phase),\n",
    "                                     float(running_corrects)/(n_times*batchsize),\n",
    "                                     epoch*len(dataloader[phase])+i)                  \n",
    "                    running_loss = 0.0\n",
    "                    running_corrects = 0\n",
    "                \n",
    "            writer.close()\n",
    "            epoch_loss = float(ep_running_loss)/float(len(dataloader[phase]))\n",
    "            epoch_acc = float(ep_running_corrects)/float(datasize[phase])\n",
    "            losses[phase].append(epoch_loss)\n",
    "            accuracy[phase].append(epoch_acc)\n",
    "            print('{} Loss: {:.4f}, Acc : {:.4f}'.format( phase, epoch_loss, epoch_acc))    \n",
    "            if phase == 'valid':\n",
    "                #scheduler.step(losses['valid'][-1])\n",
    "                scheduler.step()\n",
    "            if phase=='valid' and epoch_acc>best_acc:\n",
    "                best_acc = epoch_acc\n",
    "                best_net_wts = net.state_dict()\n",
    "        \n",
    "    print()\n",
    "    time_elapsed = time.time() - since\n",
    "    print(\"Training complete in {:.0f}s\".format(time_elapsed//60, time_elapsed%60))\n",
    "    print(\"Best Acc: {:4f}\".format(best_acc))\n",
    "    net.load_state_dict(best_net_wts)\n",
    "    PATH = 'model/best_B{}_512.pth'.format(Ebins)\n",
    "    torch.save(net.state_dict(), PATH)\n",
    "    return net,losses,accuracy    "
   ]
  },
  {
   "cell_type": "code",
   "execution_count": 39,
   "metadata": {},
   "outputs": [],
   "source": [
    "def plottingLossAcc(losses,accuracy,Eb):\n",
    "  # plotting losses, and accuracy\n",
    "    plt.figure(figsize=(6.5,4.5))\n",
    "    plt.plot(range(1,len(losses['train'])+1),losses['train'], 'r',label='train')\n",
    "    plt.plot(range(1,len(losses['valid'])+1),losses['valid'], 'b',label='test')\n",
    "    plt.title('Losses B={}'.format( Eb),fontsize=20)\n",
    "    plt.xlabel('epoch',fontsize=15)\n",
    "    plt.ylabel('losses',fontsize=15)\n",
    "    plt.legend(fontsize=15,loc=\"upper right\")\n",
    "    plt.tick_params(axis = 'both', labelsize =15)\n",
    "    plt.savefig(\"plots/accloss/loss_B{}.pdf\".format(Eb))\n",
    "    plt.show()\n",
    "\n",
    "    plt.figure(figsize=(6.5,4.5))\n",
    "    plt.plot(range(1,len(accuracy['train'])+1), accuracy['train'], 'r', label='train')\n",
    "    plt.plot(range(1,len(accuracy['valid'])+1), accuracy['valid'], 'b', label='test')\n",
    "    plt.title('Accuracy B={}'.format(Eb),fontsize=20)\n",
    "    plt.xlabel('epoch',fontsize=15)\n",
    "    plt.ylabel('accuracy',fontsize=15)\n",
    "    plt.legend(fontsize=15,loc=\"lower right\")\n",
    "    plt.tick_params(axis = 'both', labelsize =15)\n",
    "    plt.savefig(\"plots/accloss/accuracy_B{}.pdf\".format(Eb))\n",
    "    plt.show()"
   ]
  },
  {
   "cell_type": "code",
   "execution_count": 18,
   "metadata": {},
   "outputs": [],
   "source": [
    "def test(testloader,batchsize):\n",
    "    correct = 0\n",
    "    total = 0\n",
    "    y_score = np.array([])\n",
    "    y = np.array([])\n",
    "    test_losses = []\n",
    "    for data in testloader:\n",
    "        images, labels = data\n",
    "        labels = labels.cuda()\n",
    "        labels = labels.view(-1,1)\n",
    "        #outputs = torch.sigmoid(net(inputs).mean(dim=(2,3))) \n",
    "        outputs = torch.sigmoid(net(Variable(images.cuda())))\n",
    "        #outputs = net(Variable(images))\n",
    "        preds = outputs>threshold     \n",
    "        loss = criterion(outputs, labels.float().cuda())\n",
    "        #loss = criterion(outputs, labels.long())\n",
    "        y_score = np.append(y_score,outputs.data.cpu().detach().numpy())\n",
    "        y = np.append(y,labels.cpu().numpy())\n",
    "        test_losses.append(loss.data/batchsize)\n",
    "        total += labels.size(0)\n",
    "        target = labels.view(-1,1)>threshold\n",
    "        correct += torch.sum(preds==target)\n",
    "    return y, y_score, correct, total,  test_losses"
   ]
  },
  {
   "cell_type": "code",
   "execution_count": 19,
   "metadata": {},
   "outputs": [],
   "source": [
    "def roc(y,y_score,correct,total,Eb):\n",
    "    ny = y\n",
    "    fpr,tpr, thresholds  = roc_curve(np.array(ny).ravel(),y_score.ravel())\n",
    "    roc_auc = auc(fpr,tpr)\n",
    "    fig, ax = plt.subplots(figsize=(6,6))\n",
    "    lw = 2\n",
    "    # find threshold\n",
    "    res = 1\n",
    "    for i, (f, t) in enumerate(zip(fpr, tpr)):\n",
    "        if abs(1-(f+t))<res:\n",
    "            res = 1-(f+t)\n",
    "            idx = i\n",
    "    ax.plot(fpr, tpr, color='darkorange',lw=lw, label='ROC curve (area = %0.2f)' % roc_auc)\n",
    "    ax.plot([0, 1], [0, 1], color='navy', lw=lw, linestyle='--')\n",
    "    ax.set(xlim=[0.0, 1.0], ylim=[0.0,1.0])\n",
    "    ax.set_title('ROC curve B={}'.format(Eb), fontsize=20)\n",
    "    ax.set_xlabel('False Positive Rate',fontsize=15)\n",
    "    ax.set_ylabel('True Positive Rate',fontsize=15)\n",
    "    ax.tick_params(axis = 'both', labelsize =15)\n",
    "    ax.legend(loc=\"lower right\",fontsize=15)\n",
    "    t = ax.text(0.8, 0.15,'Accuracy : {}%'.format(100 * correct / total), alpha=1,\n",
    "                 va=\"center\", ha=\"center\", size=15, transform=ax.transAxes)\n",
    "    fig.savefig(\"plots/accloss/roc_B{}.pdf\".format(Eb))\n",
    "    plt.show()\n",
    "    print('Accuracy of the network on the {} test images: {} %'.format(len(testloader)*batchsize,100 * correct / total))\n",
    "    print('threshold : {}'.format(thresholds[idx]))"
   ]
  },
  {
   "cell_type": "code",
   "execution_count": 20,
   "metadata": {},
   "outputs": [],
   "source": [
    "def matplotlib_imshow(img, one_channel=False):\n",
    "    if one_channel:\n",
    "        img = img.mean(dim=0)\n",
    "    img = img / 2 + 0.5     # unnormalize\n",
    "    npimg = img.cpu().numpy()\n",
    "    if one_channel:\n",
    "        plt.imshow(npimg, cmap=\"Greys\")\n",
    "    else:\n",
    "        plt.imshow(np.transpose(npimg, (1, 2, 0)))"
   ]
  },
  {
   "cell_type": "code",
   "execution_count": 21,
   "metadata": {},
   "outputs": [],
   "source": [
    "def images_to_probs(net, images):\n",
    "    output = net(images)\n",
    "    _, preds_tensor= torch.max(output,1)\n",
    "    preds = np.squeeze(preds_tensor.cpu().numpy())\n",
    "    return preds, [F.softmax(el, dim=0)[i].item() for i, el in zip(preds, output)]"
   ]
  },
  {
   "cell_type": "code",
   "execution_count": 22,
   "metadata": {},
   "outputs": [],
   "source": [
    "def plot_classes_preds(net, images, labels):\n",
    "    preds, probs = images_to_probs(net, images)\n",
    "    fig = plt.figure(figsize=(12, 48))\n",
    "    for idx in np.arange(4):\n",
    "        ax = fig.add_subplot(1,4,idx+1, xticks=[], yticks=[])\n",
    "        matplotlib_imshow(images[idx], one_channel=True)\n",
    "        ax.set_title(\"{0}, {1:.1f}%\\n(label: {2})\".format(\n",
    "        classes[preds[idx]],\n",
    "               probs[idx]*100.0,\n",
    "               classes[int(labels[idx])]),\n",
    "                    color=('green' if preds[idx]==labels[idx].long() else \"red\"))\n",
    "    return fig"
   ]
  },
  {
   "cell_type": "code",
   "execution_count": 23,
   "metadata": {
    "scrolled": false
   },
   "outputs": [
    {
     "name": "stdout",
     "output_type": "stream",
     "text": [
      "\n",
      "Epoch 0/19\n",
      "----------\n",
      "train Loss: 0.6088, Acc : 0.7143\n",
      "valid Loss: 0.4587, Acc : 0.8235\n",
      "\n",
      "Epoch 1/19\n",
      "----------\n",
      "train Loss: 0.4326, Acc : 0.8857\n",
      "valid Loss: 0.4216, Acc : 0.8235\n",
      "\n",
      "Epoch 2/19\n",
      "----------\n",
      "train Loss: 0.4982, Acc : 0.8857\n",
      "valid Loss: 0.4164, Acc : 0.8235\n",
      "\n",
      "Epoch 3/19\n",
      "----------\n",
      "train Loss: 0.3525, Acc : 0.9143\n",
      "valid Loss: 0.3639, Acc : 0.8235\n",
      "\n",
      "Epoch 4/19\n",
      "----------\n",
      "train Loss: 0.4272, Acc : 0.8857\n",
      "valid Loss: 0.3714, Acc : 0.8235\n",
      "\n",
      "Epoch 5/19\n",
      "----------\n",
      "train Loss: 0.2811, Acc : 0.8857\n",
      "valid Loss: 0.3335, Acc : 0.8235\n",
      "\n",
      "Epoch 6/19\n",
      "----------\n",
      "train Loss: 0.3118, Acc : 0.8857\n",
      "valid Loss: 0.3544, Acc : 0.8235\n",
      "\n",
      "Epoch 7/19\n",
      "----------\n",
      "train Loss: 0.1946, Acc : 0.8857\n",
      "valid Loss: 0.6010, Acc : 0.8235\n",
      "\n",
      "Epoch 8/19\n",
      "----------\n",
      "train Loss: 0.2504, Acc : 0.9143\n",
      "valid Loss: 0.3620, Acc : 0.8235\n",
      "\n",
      "Epoch 9/19\n",
      "----------\n",
      "train Loss: 0.1486, Acc : 0.8857\n",
      "valid Loss: 0.3307, Acc : 0.8235\n",
      "\n",
      "Epoch 10/19\n",
      "----------\n",
      "train Loss: 0.2693, Acc : 0.8571\n",
      "valid Loss: 0.5819, Acc : 0.8235\n",
      "\n",
      "Epoch 11/19\n",
      "----------\n",
      "train Loss: 0.2413, Acc : 0.8857\n",
      "valid Loss: 0.2920, Acc : 0.8235\n",
      "\n",
      "Epoch 12/19\n",
      "----------\n",
      "train Loss: 0.1891, Acc : 0.8857\n",
      "valid Loss: 0.5523, Acc : 0.8235\n",
      "\n",
      "Epoch 13/19\n",
      "----------\n",
      "train Loss: 0.2008, Acc : 0.9429\n",
      "valid Loss: 0.2868, Acc : 0.8235\n",
      "\n",
      "Epoch 14/19\n",
      "----------\n",
      "train Loss: 0.1962, Acc : 0.9143\n",
      "valid Loss: 0.2935, Acc : 0.8235\n",
      "\n",
      "Epoch 15/19\n",
      "----------\n",
      "train Loss: 0.1635, Acc : 0.9143\n",
      "valid Loss: 0.2811, Acc : 0.8235\n",
      "\n",
      "Epoch 16/19\n",
      "----------\n",
      "train Loss: 0.1603, Acc : 0.8857\n",
      "valid Loss: 0.2769, Acc : 0.8235\n",
      "\n",
      "Epoch 17/19\n",
      "----------\n",
      "train Loss: 0.1415, Acc : 0.9429\n",
      "valid Loss: 0.2834, Acc : 0.8235\n",
      "\n",
      "Epoch 18/19\n",
      "----------\n",
      "train Loss: 0.1381, Acc : 0.9429\n",
      "valid Loss: 0.2848, Acc : 0.8235\n",
      "\n",
      "Epoch 19/19\n",
      "----------\n",
      "train Loss: 0.1421, Acc : 0.9714\n",
      "valid Loss: 0.5628, Acc : 0.8235\n",
      "\n",
      "Training complete in 0s\n",
      "Best Acc: 0.823529\n"
     ]
    }
   ],
   "source": [
    "from datetime import datetime\n",
    "now = datetime.now()\n",
    "logdir = \"runs/bin{}/\".format(Ebins) + now.strftime(\"%Y%m%d-%H%M%S\") + \"/\"\n",
    "writer = SummaryWriter(logdir)\n",
    "net,losses,accuracy = train_model(net, dataloader, criterion, optimizer,exp_lr_scheduler, Ebins, batchsize, 20)"
   ]
  },
  {
   "cell_type": "code",
   "execution_count": 40,
   "metadata": {
    "scrolled": false
   },
   "outputs": [
    {
     "data": {
      "image/png": "[encoded data removed]",
      "text/plain": [
       "<Figure size 432x324 with 1 Axes>"
      ]
     },
     "metadata": {
      "needs_background": "light"
     },
     "output_type": "display_data"
    },
    {
     "data": {
      "image/png": "[encoded data removed]",
      "text/plain": [
       "<Figure size 432x324 with 1 Axes>"
      ]
     },
     "metadata": {
      "needs_background": "light"
     },
     "output_type": "display_data"
    }
   ],
   "source": [
    "plottingLossAcc(losses,accuracy, Eb=Ebins)"
   ]
  },
  {
   "cell_type": "code",
   "execution_count": 25,
   "metadata": {},
   "outputs": [],
   "source": [
    "y,y_score,correct,total,test_losses = test(testloader,batchsize)"
   ]
  },
  {
   "cell_type": "code",
   "execution_count": 26,
   "metadata": {
    "scrolled": false
   },
   "outputs": [
    {
     "data": {
      "image/png": "[encoded data removed]",
      "text/plain": [
       "<Figure size 432x432 with 1 Axes>"
      ]
     },
     "metadata": {
      "needs_background": "light"
     },
     "output_type": "display_data"
    },
    {
     "name": "stdout",
     "output_type": "stream",
     "text": [
      "Accuracy of the network on the 20 test images: 77 %\n",
      "threshold : 0.12807637453079224\n"
     ]
    }
   ],
   "source": [
    "roc(y,y_score,correct,total,Ebins)"
   ]
  },
  {
   "cell_type": "code",
   "execution_count": 27,
   "metadata": {
    "scrolled": true
   },
   "outputs": [
    {
     "data": {
      "text/plain": [
       "6724"
      ]
     },
     "execution_count": 27,
     "metadata": {},
     "output_type": "execute_result"
    }
   ],
   "source": [
    "sum(each.numel() for each in net.parameters() if each.requires_grad)\n",
    "test_sets[0][0].shape\n",
    "41 * 41 * 4"
   ]
  },
  {
   "cell_type": "code",
   "execution_count": null,
   "metadata": {},
   "outputs": [],
   "source": []
  }
 ],
 "metadata": {
  "kernelspec": {
   "display_name": "Python 3",
   "language": "python",
   "name": "python3"
  },
  "language_info": {
   "codemirror_mode": {
    "name": "ipython",
    "version": 3
   },
   "file_extension": ".py",
   "mimetype": "text/x-python",
   "name": "python",
   "nbconvert_exporter": "python",
   "pygments_lexer": "ipython3",
   "version": "3.6.8"
  }
 },
 "nbformat": 4,
 "nbformat_minor": 2
}
